{
 "cells": [
  {
   "cell_type": "code",
   "execution_count": 9,
   "id": "ec53aaea",
   "metadata": {},
   "outputs": [
    {
     "name": "stdout",
     "output_type": "stream",
     "text": [
      "C:\\Users\\wodnj\\Desktop\\Projects\n"
     ]
    }
   ],
   "source": [
    "%cd \"C:\\Users\\wodnj\\Desktop\\Projects\""
   ]
  },
  {
   "cell_type": "code",
   "execution_count": 10,
   "id": "60d9c745",
   "metadata": {
    "scrolled": true
   },
   "outputs": [],
   "source": [
    "#Importing Libraries\n",
    "\n",
    "from bs4 import BeautifulSoup\n",
    "import requests\n",
    "import time\n",
    "import datetime\n",
    "import csv\n",
    "import pandas as pd"
   ]
  },
  {
   "cell_type": "code",
   "execution_count": 11,
   "id": "510074e6",
   "metadata": {},
   "outputs": [
    {
     "name": "stdout",
     "output_type": "stream",
     "text": [
      "Essential Math for Data Science: Take Control of Your Data with Fundamental Linear Algebra, Probability, and Statistics\n",
      "4.5\n",
      "2024-03-11\n"
     ]
    }
   ],
   "source": [
    "#Hosting connection to the website\n",
    "URL = 'https://www.amazon.com/Essential-Math-Data-Science-Fundamental/dp/1098102932/ref=sr_1_4?crid=1R22UQ4DY0DSH&dib=eyJ2IjoiMSJ9.IRIcA3ASAZDz-4QeoiNg13QAN-g2oHLoVDGgmH_ay_SGT-ZwmV8P_rmCdPSAe4WyqIMea-7FjIqkh3gELYeqQaXBq6m253t5-JkjKlZ1zZyAj3G1ajgpqPtZb5-Fh0IRcKZmchCL0m49tq7159i7DQTjWsjhIls0ICJNkYGFa8SE_5mIbCCSq_EUJ2kLvKVpOWRMopzAARleLPcty9cL80bWbrob8u9piBIc-4AKl_aVrL-r7Kmgmbm7wnSexdJSWpUZ-uZ7EAIN2dounpmffzOAIA5_1yNBH3_qPQrjTUs.cOMP_MWu_X4C19iQbiDk5hii5Qcfa1D9fVRExl6hShk&dib_tag=se&keywords=data+science+textbook&qid=1710085397&sprefix=data+science+textboo%2Caps%2C258&sr=8-4'\n",
    "#headers obtained from https://httpbin.org/get\n",
    "headers = {\"User-Agent\": \"Mozilla/5.0 (Windows NT 10.0; Win64; x64) AppleWebKit/537.36 (KHTML, like Gecko) Chrome/122.0.0.0 Safari/537.36\" , \"Accept-Encoding\":\"gzip, deflate\", \"Accept\":\"text/html,application/xhtml+xml,application/xml;q=0.9,*/*;q=0.8\", \"DNT\":\"1\",\"Connection\":\"close\", \"Upgrade-Insecure-Requests\":\"1\"}\n",
    "\n",
    "##Using BeautifulSoup library to scrape the Amazon webpage, then assigning the title(item's name),average_rating(Customer's),today(date) variables.\n",
    "page = requests.get(URL, headers = headers)\n",
    "\n",
    "soup1 = BeautifulSoup(page.content, \"html.parser\")\n",
    "\n",
    "soup2 = BeautifulSoup(soup1.prettify() , 'html.parser')\n",
    "\n",
    "result = soup2.find(\"div\", id = 'averageCustomerReviews')\n",
    "\n",
    "average_rating = result.find(class_ = \"a-size-base a-color-base\").get_text().strip()\n",
    "\n",
    "title = soup2.find(id = 'productTitle').get_text().strip()\n",
    "\n",
    "today = datetime.date.today()\n",
    "\n",
    "print(title)\n",
    "print(average_rating)\n",
    "print(today)"
   ]
  },
  {
   "cell_type": "code",
   "execution_count": 12,
   "id": "67d49440",
   "metadata": {},
   "outputs": [],
   "source": [
    "header = ['Title' , 'Rating' , 'Date']\n",
    "data = [title, average_rating ,today]\n",
    "#Creating the CSV , then inserting the header and the first row of data \n",
    "with open('AmazonData.csv' , 'w' , newline = '' , encoding = 'UTF8') as f:\n",
    "    writer = csv.writer(f)\n",
    "    writer.writerow(header)\n",
    "    writer.writerow(data)"
   ]
  },
  {
   "cell_type": "code",
   "execution_count": 13,
   "id": "79fb1ef3",
   "metadata": {},
   "outputs": [
    {
     "data": {
      "text/html": [
       "<div>\n",
       "<style scoped>\n",
       "    .dataframe tbody tr th:only-of-type {\n",
       "        vertical-align: middle;\n",
       "    }\n",
       "\n",
       "    .dataframe tbody tr th {\n",
       "        vertical-align: top;\n",
       "    }\n",
       "\n",
       "    .dataframe thead th {\n",
       "        text-align: right;\n",
       "    }\n",
       "</style>\n",
       "<table border=\"1\" class=\"dataframe\">\n",
       "  <thead>\n",
       "    <tr style=\"text-align: right;\">\n",
       "      <th></th>\n",
       "      <th>Title</th>\n",
       "      <th>Rating</th>\n",
       "      <th>Date</th>\n",
       "    </tr>\n",
       "  </thead>\n",
       "  <tbody>\n",
       "    <tr>\n",
       "      <th>0</th>\n",
       "      <td>Essential Math for Data Science: Take Control ...</td>\n",
       "      <td>4.5</td>\n",
       "      <td>2024-03-11</td>\n",
       "    </tr>\n",
       "  </tbody>\n",
       "</table>\n",
       "</div>"
      ],
      "text/plain": [
       "                                               Title  Rating        Date\n",
       "0  Essential Math for Data Science: Take Control ...     4.5  2024-03-11"
      ]
     },
     "execution_count": 13,
     "metadata": {},
     "output_type": "execute_result"
    }
   ],
   "source": [
    "#outcome of the cell above after the addition\n",
    "pd.read_csv(r\"C:\\Users\\wodnj\\Desktop\\Projects\\AmazonData.csv\")"
   ]
  },
  {
   "cell_type": "code",
   "execution_count": 14,
   "id": "da1c7c2a",
   "metadata": {},
   "outputs": [],
   "source": [
    "#Now appending data into the AmazonData.csv\n",
    "with open('AmazonData.csv' , 'a+' , newline = '' , encoding = 'UTF8') as f:\n",
    "    writer = csv.writer(f)\n",
    "    writer.writerow(data)"
   ]
  },
  {
   "cell_type": "code",
   "execution_count": 18,
   "id": "175a4c21",
   "metadata": {},
   "outputs": [],
   "source": [
    "#rating_check function created and included the codes above in order to utilize the time library.\n",
    "def rating_checker():\n",
    "    URL = 'https://www.amazon.com/Essential-Math-Data-Science-Fundamental/dp/1098102932/ref=sr_1_4?crid=1R22UQ4DY0DSH&dib=eyJ2IjoiMSJ9.IRIcA3ASAZDz-4QeoiNg13QAN-g2oHLoVDGgmH_ay_SGT-ZwmV8P_rmCdPSAe4WyqIMea-7FjIqkh3gELYeqQaXBq6m253t5-JkjKlZ1zZyAj3G1ajgpqPtZb5-Fh0IRcKZmchCL0m49tq7159i7DQTjWsjhIls0ICJNkYGFa8SE_5mIbCCSq_EUJ2kLvKVpOWRMopzAARleLPcty9cL80bWbrob8u9piBIc-4AKl_aVrL-r7Kmgmbm7wnSexdJSWpUZ-uZ7EAIN2dounpmffzOAIA5_1yNBH3_qPQrjTUs.cOMP_MWu_X4C19iQbiDk5hii5Qcfa1D9fVRExl6hShk&dib_tag=se&keywords=data+science+textbook&qid=1710085397&sprefix=data+science+textboo%2Caps%2C258&sr=8-4'\n",
    "    \n",
    "    headers = {\"User-Agent\": \"Mozilla/5.0 (Windows NT 10.0; Win64; x64) AppleWebKit/537.36 (KHTML, like Gecko) Chrome/122.0.0.0 Safari/537.36\" , \"Accept-Encoding\":\"gzip, deflate\", \"Accept\":\"text/html,application/xhtml+xml,application/xml;q=0.9,*/*;q=0.8\", \"DNT\":\"1\",\"Connection\":\"close\", \"Upgrade-Insecure-Requests\":\"1\"}\n",
    "    \n",
    "    page = requests.get(URL, headers = headers)\n",
    "    \n",
    "    soup1 = BeautifulSoup(page.content, \"html.parser\")\n",
    "    \n",
    "    soup2 = BeautifulSoup(soup1.prettify() , 'html.parser')\n",
    "    \n",
    "    result = soup2.find(\"div\", id = 'averageCustomerReviews')\n",
    "\n",
    "    average_rating = result.find(class_ = \"a-size-base a-color-base\").get_text().strip()\n",
    "    \n",
    "    title = soup2.find(id = 'productTitle').get_text().strip()\n",
    "    \n",
    "    import datetime\n",
    "    today = datetime.date.today()\n",
    "    \n",
    "    import csv\n",
    "    header = ['Title' , 'Rating' , 'Date']\n",
    "    data = [title, average_rating ,today]\n",
    "    \n",
    "    with open('AmazonData.csv' , 'a+' , newline = '' , encoding = 'UTF8') as f:\n",
    "        writer = csv.writer(f)\n",
    "        writer.writerow(data)"
   ]
  },
  {
   "cell_type": "code",
   "execution_count": null,
   "id": "e57b2269",
   "metadata": {},
   "outputs": [],
   "source": [
    "#time library's sleep() used to append the updated rating every 12 hours (60 seconds * 60 minutes * 12 hours)\n",
    "while(True):\n",
    "    rating_checker()\n",
    "    time.sleep(43200)"
   ]
  },
  {
   "cell_type": "code",
   "execution_count": null,
   "id": "dfcce661",
   "metadata": {},
   "outputs": [],
   "source": [
    "#This line of code is for demonstration purposes. Here,I will be setting the sleep time to 3 seconds and update the rating of the product for total of 30 seconds (10 times) and display the output.\n",
    "while(True):\n",
    "    rating_checker()\n",
    "    time.sleep(5)"
   ]
  },
  {
   "cell_type": "code",
   "execution_count": 21,
   "id": "ad4598c0",
   "metadata": {
    "scrolled": true
   },
   "outputs": [
    {
     "data": {
      "text/html": [
       "<div>\n",
       "<style scoped>\n",
       "    .dataframe tbody tr th:only-of-type {\n",
       "        vertical-align: middle;\n",
       "    }\n",
       "\n",
       "    .dataframe tbody tr th {\n",
       "        vertical-align: top;\n",
       "    }\n",
       "\n",
       "    .dataframe thead th {\n",
       "        text-align: right;\n",
       "    }\n",
       "</style>\n",
       "<table border=\"1\" class=\"dataframe\">\n",
       "  <thead>\n",
       "    <tr style=\"text-align: right;\">\n",
       "      <th></th>\n",
       "      <th>Title</th>\n",
       "      <th>Rating</th>\n",
       "      <th>Date</th>\n",
       "    </tr>\n",
       "  </thead>\n",
       "  <tbody>\n",
       "    <tr>\n",
       "      <th>0</th>\n",
       "      <td>Essential Math for Data Science: Take Control ...</td>\n",
       "      <td>4.5</td>\n",
       "      <td>3/11/2024</td>\n",
       "    </tr>\n",
       "    <tr>\n",
       "      <th>1</th>\n",
       "      <td>Essential Math for Data Science: Take Control ...</td>\n",
       "      <td>4.5</td>\n",
       "      <td>3/11/2024</td>\n",
       "    </tr>\n",
       "    <tr>\n",
       "      <th>2</th>\n",
       "      <td>Essential Math for Data Science: Take Control ...</td>\n",
       "      <td>4.5</td>\n",
       "      <td>3/11/2024</td>\n",
       "    </tr>\n",
       "    <tr>\n",
       "      <th>3</th>\n",
       "      <td>Essential Math for Data Science: Take Control ...</td>\n",
       "      <td>4.5</td>\n",
       "      <td>3/11/2024</td>\n",
       "    </tr>\n",
       "    <tr>\n",
       "      <th>4</th>\n",
       "      <td>Essential Math for Data Science: Take Control ...</td>\n",
       "      <td>4.5</td>\n",
       "      <td>3/11/2024</td>\n",
       "    </tr>\n",
       "    <tr>\n",
       "      <th>5</th>\n",
       "      <td>Essential Math for Data Science: Take Control ...</td>\n",
       "      <td>4.5</td>\n",
       "      <td>3/11/2024</td>\n",
       "    </tr>\n",
       "    <tr>\n",
       "      <th>6</th>\n",
       "      <td>Essential Math for Data Science: Take Control ...</td>\n",
       "      <td>4.5</td>\n",
       "      <td>3/11/2024</td>\n",
       "    </tr>\n",
       "    <tr>\n",
       "      <th>7</th>\n",
       "      <td>Essential Math for Data Science: Take Control ...</td>\n",
       "      <td>4.5</td>\n",
       "      <td>3/11/2024</td>\n",
       "    </tr>\n",
       "    <tr>\n",
       "      <th>8</th>\n",
       "      <td>Essential Math for Data Science: Take Control ...</td>\n",
       "      <td>4.5</td>\n",
       "      <td>3/11/2024</td>\n",
       "    </tr>\n",
       "    <tr>\n",
       "      <th>9</th>\n",
       "      <td>Essential Math for Data Science: Take Control ...</td>\n",
       "      <td>4.5</td>\n",
       "      <td>3/11/2024</td>\n",
       "    </tr>\n",
       "    <tr>\n",
       "      <th>10</th>\n",
       "      <td>Essential Math for Data Science: Take Control ...</td>\n",
       "      <td>4.5</td>\n",
       "      <td>3/11/2024</td>\n",
       "    </tr>\n",
       "  </tbody>\n",
       "</table>\n",
       "</div>"
      ],
      "text/plain": [
       "                                                Title  Rating       Date\n",
       "0   Essential Math for Data Science: Take Control ...     4.5  3/11/2024\n",
       "1   Essential Math for Data Science: Take Control ...     4.5  3/11/2024\n",
       "2   Essential Math for Data Science: Take Control ...     4.5  3/11/2024\n",
       "3   Essential Math for Data Science: Take Control ...     4.5  3/11/2024\n",
       "4   Essential Math for Data Science: Take Control ...     4.5  3/11/2024\n",
       "5   Essential Math for Data Science: Take Control ...     4.5  3/11/2024\n",
       "6   Essential Math for Data Science: Take Control ...     4.5  3/11/2024\n",
       "7   Essential Math for Data Science: Take Control ...     4.5  3/11/2024\n",
       "8   Essential Math for Data Science: Take Control ...     4.5  3/11/2024\n",
       "9   Essential Math for Data Science: Take Control ...     4.5  3/11/2024\n",
       "10  Essential Math for Data Science: Take Control ...     4.5  3/11/2024"
      ]
     },
     "execution_count": 21,
     "metadata": {},
     "output_type": "execute_result"
    }
   ],
   "source": [
    "#after running for 30 seconds (Since the rating will not change in an interval of 30 seconds, all rows each added at 3 second interval are same.)\n",
    "pd.read_csv(r\"C:\\Users\\wodnj\\Desktop\\Projects\\AmazonData.csv\")"
   ]
  }
 ],
 "metadata": {
  "kernelspec": {
   "display_name": "Python 3 (ipykernel)",
   "language": "python",
   "name": "python3"
  },
  "language_info": {
   "codemirror_mode": {
    "name": "ipython",
    "version": 3
   },
   "file_extension": ".py",
   "mimetype": "text/x-python",
   "name": "python",
   "nbconvert_exporter": "python",
   "pygments_lexer": "ipython3",
   "version": "3.11.5"
  }
 },
 "nbformat": 4,
 "nbformat_minor": 5
}
